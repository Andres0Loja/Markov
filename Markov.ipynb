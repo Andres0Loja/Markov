{
 "cells": [
  {
   "cell_type": "markdown",
   "metadata": {},
   "source": [
    "# Procesos de decisión de Markov"
   ]
  },
  {
   "cell_type": "raw",
   "metadata": {},
   "source": [
    "#Realizado por: András Loja"
   ]
  },
  {
   "cell_type": "markdown",
   "metadata": {},
   "source": [
    "# Qué es ?"
   ]
  },
  {
   "cell_type": "raw",
   "metadata": {},
   "source": [
    "#Llamado asi por el matematico ruso Andrei Markov.\n",
    "#Es un concepto desarrollado dentro de la teoría de la probabilidad y la #estadística que establece una fuerte dependencia entre un evento y otro suceso #anterior. Su principal utilidad es el análisis del comportamiento de procesos #estocásticos.\n",
    "#La definición supone que en procesos estocásticos la probabilidad de que algo #suceda solamente depende del pasado histórico de la realidad que estamos #estudiando. \n",
    "\n",
    "\n",
    "\n",
    "#Regla\n",
    "\n",
    "#Lo que la cadena experimente en un momento t + 1 solamente depende de lo #acontecido en el momento t (el inmediatamente anterior)."
   ]
  },
  {
   "cell_type": "markdown",
   "metadata": {},
   "source": [
    "# Elementos que conforman el proceso"
   ]
  },
  {
   "cell_type": "raw",
   "metadata": {},
   "source": [
    "#Propiedades de cadenas de Markov\n",
    "\n",
    "#---Es discreto en el tiempo.\n",
    "#---Se define en un espacio finito de estados posibles\n",
    "#---El cambio entre estados está determinado por un conjunto de probabilidades #𝑝𝑖𝑗.\n",
    "#---La probabilidad de que el proceso pase del estado 𝑖 al 𝑗 (𝑝𝑖𝑗) depende\n",
    "#únicamente del estado actual y no de los estados anteriores. A esta #característica se le conoce como propiedad de Markov y puede enunciarse\n",
    "#como (Lam, 2008):\n",
    "#𝑝𝑖𝑗(𝑎𝑡+1)|𝑎1, 𝑎2, … , 𝑎𝑡 = 𝑝𝑖𝑗(𝑎𝑡+1)|𝑎t\n",
    "\n",
    "\n",
    "\n",
    "# Supuestos\n",
    "\n",
    "#---Los estados del proceso corresponden a los distintos niveles de deterioro\n",
    "#del pavimento, definidos en términos de medidas del daño como la\n",
    "#irregularidad, los deterioros superficiales o índices compuestos como el\n",
    "#Índice de Nivel de Servicio Actual (𝑃𝑆𝐼 por Present Serviceability Index)\n",
    "#(AASHTO, 1993).\n",
    "#---El nivel de deterioro se expresa a través de estados o bandas de condición,\n",
    "#definidos en términos de algún indicador de interés, por ejemplo, 1.5 ≤\n",
    "#𝐼𝑅𝐼 < 3.5 para el Índice de Regularidad Internacional (IRI).\n",
    "#---Los estados del proceso ocurren en ciclos de servicio con una duración #fija, normalmente de un año.\n",
    "#===Se asume que el deterioro de pavimentos cumple con la propiedad de\n",
    "#Markov, es decir, que el estado futuro depende únicamente del estado\n",
    "#actual."
   ]
  },
  {
   "cell_type": "markdown",
   "metadata": {},
   "source": [
    "# Tecnicas que existen para resolver estos procesos"
   ]
  },
  {
   "cell_type": "raw",
   "metadata": {},
   "source": [
    "#---Optimización de la matriz de probabilidades\n",
    "#de transición\n",
    "\n",
    "#El desarrollo de los modelos de deterioro basados en cadenas de Markov incluyó\n",
    "#las siguientes acciones:\n",
    "#a) Seleccionar de un conjunto de tramos carreteros y clasificarlos en familias\n",
    "#con características similares.\n",
    "#b) Preparar series de datos históricos de diez o más años para cada una de\n",
    "#las familias.\n",
    "#c) Someter las series del punto anterior a procesos de filtrado y análisis de\n",
    "#valores atípicos.\n",
    "#d) Con base en los datos históricos ya procesados, obtener una matriz de\n",
    "#probabilidades de transición para cada familia, tomando en cuenta las\n",
    "#siguientes consideraciones:\n",
    "#i) Todos los tramos se encuentran en el estado de deterioro 1 a la\n",
    "#edad de cero años, es decir, el vector de estado al inicio del periodo\n",
    "#de análisis está dado por:\n",
    "#𝒂0 = (1,0, … ,0)\n",
    "#ii) La condición del pavimento no se degrada en más de un estado por año.\n",
    "\n",
    "#---Conversión de modelos y matrices de\n",
    "#transición no homogéneas\n",
    "\n",
    "#Li propone la obtención de matrices de transición no homogéneas\n",
    "#con base en la conversión de un modelo de deterioro determinista en uno de #tipo probabilístico. Esta conversión se realiza aplicando el siguiente #procedimiento:\n",
    "#a) Seleccionar un modelo de deterioro determinista, por ejemplo el del método\n",
    "#de diseño de la AASHTO (AASHTO, 1993) o los incluidos en el sistema\n",
    "#HDM-III (Watanatada, et al., 1987).\n",
    "#b) Identificar las variables independientes consideradas y su relación con la\n",
    "#variable dependiente (p. ej., 𝑃𝐶𝐼 para el modelo de la AASHTO o 𝐼𝑅𝐼en el\n",
    "#caso de HDM-III).\n",
    "#c) Determinar la distribución de probabilidad de las variables independientes.\n",
    "#d) Para cada año del periodo de análisis:\n",
    "#i) Generar conjuntos de variables independientes usando simulación\n",
    "#Montecarlo y la distribución elegida para cada variable.\n",
    "#ii) Calcular valores de la variable dependiente para cada conjunto.\n",
    "#Obtener la distribución de probabilidad de la variable dependiente\n",
    "#(vector de estado).\n",
    "#iii) Determinar los elementos de la matriz de transición.\n",
    "#iv) En caso de existir mediciones, actualizar la matriz de transición\n",
    "#empleando métodos bayesianos.\n",
    "\n",
    "\n",
    "\n",
    "#---Métodos MCMC e inferencia bayesiana\n",
    "\n",
    "#En términos generales, estos\n",
    "#métodos comprenden un conjunto de algoritmos para la aproximación numérica de\n",
    "#una distribución de probabilidad mediante la construcción de una cadena de\n",
    "#Markov cuya distribución de equilibrio coincide con la distribución buscada.\n",
    "#La distribución de equilibrio 𝜋 es tal que:\n",
    "#𝜋 = 𝜋𝑷\n",
    "#donde:\n",
    "#𝑷: Matriz de probabilidades de transición"
   ]
  }
 ],
 "metadata": {
  "kernelspec": {
   "display_name": "Python 3",
   "language": "python",
   "name": "python3"
  },
  "language_info": {
   "codemirror_mode": {
    "name": "ipython",
    "version": 3
   },
   "file_extension": ".py",
   "mimetype": "text/x-python",
   "name": "python",
   "nbconvert_exporter": "python",
   "pygments_lexer": "ipython3",
   "version": "3.7.6"
  }
 },
 "nbformat": 4,
 "nbformat_minor": 4
}
